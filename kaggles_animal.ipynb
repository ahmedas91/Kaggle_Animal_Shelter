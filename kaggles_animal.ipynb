{
 "cells": [
  {
   "cell_type": "markdown",
   "metadata": {},
   "source": [
    "# Introduction\n",
    "Right from the [competition](https://www.kaggle.com/c/shelter-animal-outcomes) description:\n",
    "> Every year, approximately 7.6 million companion animals end up in US shelters. Many animals are given up as unwanted by their owners, while others are picked up after getting lost or taken out of cruelty situations. Many of these animals find forever families to take them home, but just as many are not so lucky. 2.7 million dogs and cats are euthanized in the US every year. Using a dataset of intake information including breed, color, sex, and age from the Austin Animal Center, we're asking Kagglers to predict the outcome for each animal.\n",
    "\n",
    "I will first start with processing the data and extracting some extra features and do some exploration. Then I will process the data again to train the neural network model. "
   ]
  },
  {
   "cell_type": "markdown",
   "metadata": {},
   "source": [
    "# Processing the data and extracting features"
   ]
  },
  {
   "cell_type": "code",
   "execution_count": 1,
   "metadata": {
    "collapsed": false
   },
   "outputs": [],
   "source": [
    "%matplotlib inline\n",
    "import pandas as pd\n",
    "import matplotlib as mpl\n",
    "import matplotlib.pyplot as plt\n",
    "from matplotlib import gridspec\n",
    "import numpy as np\n",
    "import datetime\n",
    "import calendar\n",
    "import string"
   ]
  },
  {
   "cell_type": "code",
   "execution_count": 2,
   "metadata": {
    "collapsed": true
   },
   "outputs": [],
   "source": [
    "train = pd.read_csv('train.csv')"
   ]
  },
  {
   "cell_type": "code",
   "execution_count": 3,
   "metadata": {
    "collapsed": false,
    "scrolled": false
   },
   "outputs": [
    {
     "data": {
      "text/html": [
       "<div>\n",
       "<table border=\"1\" class=\"dataframe\">\n",
       "  <thead>\n",
       "    <tr style=\"text-align: right;\">\n",
       "      <th></th>\n",
       "      <th>AnimalID</th>\n",
       "      <th>Name</th>\n",
       "      <th>DateTime</th>\n",
       "      <th>OutcomeType</th>\n",
       "      <th>OutcomeSubtype</th>\n",
       "      <th>AnimalType</th>\n",
       "      <th>SexuponOutcome</th>\n",
       "      <th>AgeuponOutcome</th>\n",
       "      <th>Breed</th>\n",
       "      <th>Color</th>\n",
       "    </tr>\n",
       "  </thead>\n",
       "  <tbody>\n",
       "    <tr>\n",
       "      <th>0</th>\n",
       "      <td>A671945</td>\n",
       "      <td>Hambone</td>\n",
       "      <td>2014-02-12 18:22:00</td>\n",
       "      <td>Return_to_owner</td>\n",
       "      <td>NaN</td>\n",
       "      <td>Dog</td>\n",
       "      <td>Neutered Male</td>\n",
       "      <td>1 year</td>\n",
       "      <td>Shetland Sheepdog Mix</td>\n",
       "      <td>Brown/White</td>\n",
       "    </tr>\n",
       "    <tr>\n",
       "      <th>1</th>\n",
       "      <td>A656520</td>\n",
       "      <td>Emily</td>\n",
       "      <td>2013-10-13 12:44:00</td>\n",
       "      <td>Euthanasia</td>\n",
       "      <td>Suffering</td>\n",
       "      <td>Cat</td>\n",
       "      <td>Spayed Female</td>\n",
       "      <td>1 year</td>\n",
       "      <td>Domestic Shorthair Mix</td>\n",
       "      <td>Cream Tabby</td>\n",
       "    </tr>\n",
       "    <tr>\n",
       "      <th>2</th>\n",
       "      <td>A686464</td>\n",
       "      <td>Pearce</td>\n",
       "      <td>2015-01-31 12:28:00</td>\n",
       "      <td>Adoption</td>\n",
       "      <td>Foster</td>\n",
       "      <td>Dog</td>\n",
       "      <td>Neutered Male</td>\n",
       "      <td>2 years</td>\n",
       "      <td>Pit Bull Mix</td>\n",
       "      <td>Blue/White</td>\n",
       "    </tr>\n",
       "    <tr>\n",
       "      <th>3</th>\n",
       "      <td>A683430</td>\n",
       "      <td>NaN</td>\n",
       "      <td>2014-07-11 19:09:00</td>\n",
       "      <td>Transfer</td>\n",
       "      <td>Partner</td>\n",
       "      <td>Cat</td>\n",
       "      <td>Intact Male</td>\n",
       "      <td>3 weeks</td>\n",
       "      <td>Domestic Shorthair Mix</td>\n",
       "      <td>Blue Cream</td>\n",
       "    </tr>\n",
       "    <tr>\n",
       "      <th>4</th>\n",
       "      <td>A667013</td>\n",
       "      <td>NaN</td>\n",
       "      <td>2013-11-15 12:52:00</td>\n",
       "      <td>Transfer</td>\n",
       "      <td>Partner</td>\n",
       "      <td>Dog</td>\n",
       "      <td>Neutered Male</td>\n",
       "      <td>2 years</td>\n",
       "      <td>Lhasa Apso/Miniature Poodle</td>\n",
       "      <td>Tan</td>\n",
       "    </tr>\n",
       "  </tbody>\n",
       "</table>\n",
       "</div>"
      ],
      "text/plain": [
       "  AnimalID     Name             DateTime      OutcomeType OutcomeSubtype  \\\n",
       "0  A671945  Hambone  2014-02-12 18:22:00  Return_to_owner            NaN   \n",
       "1  A656520    Emily  2013-10-13 12:44:00       Euthanasia      Suffering   \n",
       "2  A686464   Pearce  2015-01-31 12:28:00         Adoption         Foster   \n",
       "3  A683430      NaN  2014-07-11 19:09:00         Transfer        Partner   \n",
       "4  A667013      NaN  2013-11-15 12:52:00         Transfer        Partner   \n",
       "\n",
       "  AnimalType SexuponOutcome AgeuponOutcome                        Breed  \\\n",
       "0        Dog  Neutered Male         1 year        Shetland Sheepdog Mix   \n",
       "1        Cat  Spayed Female         1 year       Domestic Shorthair Mix   \n",
       "2        Dog  Neutered Male        2 years                 Pit Bull Mix   \n",
       "3        Cat    Intact Male        3 weeks       Domestic Shorthair Mix   \n",
       "4        Dog  Neutered Male        2 years  Lhasa Apso/Miniature Poodle   \n",
       "\n",
       "         Color  \n",
       "0  Brown/White  \n",
       "1  Cream Tabby  \n",
       "2   Blue/White  \n",
       "3   Blue Cream  \n",
       "4          Tan  "
      ]
     },
     "execution_count": 3,
     "metadata": {},
     "output_type": "execute_result"
    }
   ],
   "source": [
    "train.head()"
   ]
  },
  {
   "cell_type": "code",
   "execution_count": 4,
   "metadata": {
    "collapsed": false
   },
   "outputs": [
    {
     "data": {
      "text/html": [
       "<div>\n",
       "<table border=\"1\" class=\"dataframe\">\n",
       "  <thead>\n",
       "    <tr style=\"text-align: right;\">\n",
       "      <th></th>\n",
       "      <th>AnimalID</th>\n",
       "      <th>Name</th>\n",
       "      <th>DateTime</th>\n",
       "      <th>OutcomeType</th>\n",
       "      <th>OutcomeSubtype</th>\n",
       "      <th>AnimalType</th>\n",
       "      <th>SexuponOutcome</th>\n",
       "      <th>AgeuponOutcome</th>\n",
       "      <th>Breed</th>\n",
       "      <th>Color</th>\n",
       "    </tr>\n",
       "  </thead>\n",
       "  <tbody>\n",
       "    <tr>\n",
       "      <th>count</th>\n",
       "      <td>26729</td>\n",
       "      <td>19038</td>\n",
       "      <td>26729</td>\n",
       "      <td>26729</td>\n",
       "      <td>13117</td>\n",
       "      <td>26729</td>\n",
       "      <td>26728</td>\n",
       "      <td>26711</td>\n",
       "      <td>26729</td>\n",
       "      <td>26729</td>\n",
       "    </tr>\n",
       "    <tr>\n",
       "      <th>unique</th>\n",
       "      <td>26729</td>\n",
       "      <td>6374</td>\n",
       "      <td>22918</td>\n",
       "      <td>5</td>\n",
       "      <td>16</td>\n",
       "      <td>2</td>\n",
       "      <td>5</td>\n",
       "      <td>44</td>\n",
       "      <td>1380</td>\n",
       "      <td>366</td>\n",
       "    </tr>\n",
       "    <tr>\n",
       "      <th>top</th>\n",
       "      <td>A705677</td>\n",
       "      <td>Max</td>\n",
       "      <td>2015-08-11 00:00:00</td>\n",
       "      <td>Adoption</td>\n",
       "      <td>Partner</td>\n",
       "      <td>Dog</td>\n",
       "      <td>Neutered Male</td>\n",
       "      <td>1 year</td>\n",
       "      <td>Domestic Shorthair Mix</td>\n",
       "      <td>Black/White</td>\n",
       "    </tr>\n",
       "    <tr>\n",
       "      <th>freq</th>\n",
       "      <td>1</td>\n",
       "      <td>136</td>\n",
       "      <td>19</td>\n",
       "      <td>10769</td>\n",
       "      <td>7816</td>\n",
       "      <td>15595</td>\n",
       "      <td>9779</td>\n",
       "      <td>3969</td>\n",
       "      <td>8810</td>\n",
       "      <td>2824</td>\n",
       "    </tr>\n",
       "  </tbody>\n",
       "</table>\n",
       "</div>"
      ],
      "text/plain": [
       "       AnimalID   Name             DateTime OutcomeType OutcomeSubtype  \\\n",
       "count     26729  19038                26729       26729          13117   \n",
       "unique    26729   6374                22918           5             16   \n",
       "top     A705677    Max  2015-08-11 00:00:00    Adoption        Partner   \n",
       "freq          1    136                   19       10769           7816   \n",
       "\n",
       "       AnimalType SexuponOutcome AgeuponOutcome                   Breed  \\\n",
       "count       26729          26728          26711                   26729   \n",
       "unique          2              5             44                    1380   \n",
       "top           Dog  Neutered Male         1 year  Domestic Shorthair Mix   \n",
       "freq        15595           9779           3969                    8810   \n",
       "\n",
       "              Color  \n",
       "count         26729  \n",
       "unique          366  \n",
       "top     Black/White  \n",
       "freq           2824  "
      ]
     },
     "execution_count": 4,
     "metadata": {},
     "output_type": "execute_result"
    }
   ],
   "source": [
    "train.describe()"
   ]
  },
  {
   "cell_type": "code",
   "execution_count": 5,
   "metadata": {
    "collapsed": false
   },
   "outputs": [
    {
     "name": "stdout",
     "output_type": "stream",
     "text": [
      "<class 'pandas.core.frame.DataFrame'>\n",
      "Int64Index: 26729 entries, 0 to 26728\n",
      "Data columns (total 10 columns):\n",
      "AnimalID          26729 non-null object\n",
      "Name              19038 non-null object\n",
      "DateTime          26729 non-null object\n",
      "OutcomeType       26729 non-null object\n",
      "OutcomeSubtype    13117 non-null object\n",
      "AnimalType        26729 non-null object\n",
      "SexuponOutcome    26728 non-null object\n",
      "AgeuponOutcome    26711 non-null object\n",
      "Breed             26729 non-null object\n",
      "Color             26729 non-null object\n",
      "dtypes: object(10)\n",
      "memory usage: 2.2+ MB\n"
     ]
    }
   ],
   "source": [
    "train.info()"
   ]
  },
  {
   "cell_type": "markdown",
   "metadata": {},
   "source": [
    "### Features processed\n",
    "- `Name`\n",
    "\n",
    "Based on the above, some animals have `Name` and some don't. Assuming some would prefer to adopt an animal with a name, we'll make a new feature `HasName` with `yes` and `no` categories indicating whether the animal has a name or not and remove the `Name` feature. \n",
    "- `DateTime`\n",
    "\n",
    "`DateTime` can give us two features, `Month` and `Time` representing the month of the year and time of the day in 24 hours format, respectively.\n",
    "- `OutcomeSubtype`\n",
    "\n",
    "We're going to remove the `OutcomeSubtype` feature since the test data (see section) does not have this feature. \n",
    "- `SexuponOutcome`\n",
    "\n",
    "`SexuponOutcome` can give us two features by spliting it up, the status of the animal, whether it is neutered, spayed..etc, and its sex. The missing data will labeled as unkown.\n",
    "- `AgeuponOutcome`\n",
    "\n",
    "`AgeuponOutcome` will be converted all to years. And we'll extract two features from it: one numeric `AgeInYears` and one categorical `StringAge` (rounded). The animals with missing ages will be removed since they are only few. "
   ]
  },
  {
   "cell_type": "code",
   "execution_count": 6,
   "metadata": {
    "collapsed": false
   },
   "outputs": [],
   "source": [
    "def process(features):\n",
    "    #fill missing OutcomeSubtype with Unkown\n",
    "    features['SexuponOutcome'] = features['SexuponOutcome'].fillna('Unknown')\n",
    "    #extract to new features from SexuponOutcome\n",
    "    splited_SexuponOutcome = features['SexuponOutcome'].apply(lambda x: pd.Series(x.split(' ')))\n",
    "    splited_SexuponOutcome.columns = ['Status', 'Gender']\n",
    "    splited_SexuponOutcome = splited_SexuponOutcome.fillna('Unknown')\n",
    "    features = pd.concat([features,splited_SexuponOutcome], axis=1)\n",
    "    #remove rows with missing age (alternatively we can fill them with the mean)\n",
    "    features = features[pd.notnull(features['AgeuponOutcome'])]\n",
    "    #convert age values to float years\n",
    "    splited_AgeuponOutcome = features['AgeuponOutcome'].apply(lambda x: pd.Series(x.split(' ')))\n",
    "    splited_AgeuponOutcome[0] = splited_AgeuponOutcome[0].map(lambda x: float(x)) \n",
    "    for i in range(len(splited_AgeuponOutcome)):\n",
    "        if splited_AgeuponOutcome.iloc[i,1]=='weeks' or splited_AgeuponOutcome.iloc[i,1]=='week':\n",
    "            splited_AgeuponOutcome.iloc[i,0] = splited_AgeuponOutcome.iloc[i,0]/4\n",
    "        elif splited_AgeuponOutcome.iloc[i,1]=='month' or splited_AgeuponOutcome.iloc[i,1]=='months':\n",
    "            splited_AgeuponOutcome.iloc[i,0] = splited_AgeuponOutcome.iloc[i,0]/12\n",
    "        elif splited_AgeuponOutcome.iloc[i,1]=='day' or splited_AgeuponOutcome.iloc[i,1]=='days':\n",
    "            splited_AgeuponOutcome.iloc[i,0] = splited_AgeuponOutcome.iloc[i,0]/365\n",
    "        else:\n",
    "            pass\n",
    "    features['AgeInYears'] = splited_AgeuponOutcome[0]\n",
    "    features['SringAge'] = features['AgeInYears'].map(lambda x: str(round(x)))\n",
    "    #conver date times to date time object\n",
    "    features['DateTime'] = features['DateTime'].map(lambda x: datetime.datetime.strptime(x, '%Y-%m-%d %X'))\n",
    "    #create a new categorical feature rounded time of the day\n",
    "    features['Time'] = features['DateTime'].map(lambda x: x.hour if x.minute <= 30 else x.hour+1)\n",
    "    features['Time'] = features['Time'].map(lambda x: str(x))\n",
    "    #create a new categorical feature day of the week\n",
    "    features['WeekDay'] = features['DateTime'].map(lambda x: calendar.day_name[x.weekday()])\n",
    "    #create a new categorical feature month of the year\n",
    "    features['Month'] = features['DateTime'].map(lambda x: str(x.month))\n",
    "    #create a new categorical feature whether it has a name or not\n",
    "    features['HasName'] = pd.isnull(features['Name']).map(lambda x: 'yes' if not x else 'no')\n",
    "    features = features.drop(['AnimalID', 'Name','SexuponOutcome', 'AgeuponOutcome','DateTime', 'OutcomeSubtype'],\n",
    "                             axis=1)\n",
    "    return features"
   ]
  },
  {
   "cell_type": "code",
   "execution_count": 7,
   "metadata": {
    "collapsed": false
   },
   "outputs": [],
   "source": [
    "ptrain = process(train)"
   ]
  },
  {
   "cell_type": "code",
   "execution_count": 8,
   "metadata": {
    "collapsed": true
   },
   "outputs": [],
   "source": [
    "pfeatures = ptrain.drop(['OutcomeType'],axis=1)"
   ]
  },
  {
   "cell_type": "code",
   "execution_count": 9,
   "metadata": {
    "collapsed": true
   },
   "outputs": [],
   "source": [
    "target = ptrain['OutcomeType']"
   ]
  },
  {
   "cell_type": "code",
   "execution_count": 10,
   "metadata": {
    "collapsed": false
   },
   "outputs": [
    {
     "data": {
      "text/html": [
       "<div>\n",
       "<table border=\"1\" class=\"dataframe\">\n",
       "  <thead>\n",
       "    <tr style=\"text-align: right;\">\n",
       "      <th></th>\n",
       "      <th>AnimalType</th>\n",
       "      <th>Breed</th>\n",
       "      <th>Color</th>\n",
       "      <th>Status</th>\n",
       "      <th>Gender</th>\n",
       "      <th>AgeInYears</th>\n",
       "      <th>SringAge</th>\n",
       "      <th>Time</th>\n",
       "      <th>WeekDay</th>\n",
       "      <th>Month</th>\n",
       "      <th>HasName</th>\n",
       "    </tr>\n",
       "  </thead>\n",
       "  <tbody>\n",
       "    <tr>\n",
       "      <th>0</th>\n",
       "      <td>Dog</td>\n",
       "      <td>Shetland Sheepdog Mix</td>\n",
       "      <td>Brown/White</td>\n",
       "      <td>Neutered</td>\n",
       "      <td>Male</td>\n",
       "      <td>1.00</td>\n",
       "      <td>1.0</td>\n",
       "      <td>18</td>\n",
       "      <td>Wednesday</td>\n",
       "      <td>2</td>\n",
       "      <td>yes</td>\n",
       "    </tr>\n",
       "    <tr>\n",
       "      <th>1</th>\n",
       "      <td>Cat</td>\n",
       "      <td>Domestic Shorthair Mix</td>\n",
       "      <td>Cream Tabby</td>\n",
       "      <td>Spayed</td>\n",
       "      <td>Female</td>\n",
       "      <td>1.00</td>\n",
       "      <td>1.0</td>\n",
       "      <td>13</td>\n",
       "      <td>Sunday</td>\n",
       "      <td>10</td>\n",
       "      <td>yes</td>\n",
       "    </tr>\n",
       "    <tr>\n",
       "      <th>2</th>\n",
       "      <td>Dog</td>\n",
       "      <td>Pit Bull Mix</td>\n",
       "      <td>Blue/White</td>\n",
       "      <td>Neutered</td>\n",
       "      <td>Male</td>\n",
       "      <td>2.00</td>\n",
       "      <td>2.0</td>\n",
       "      <td>12</td>\n",
       "      <td>Saturday</td>\n",
       "      <td>1</td>\n",
       "      <td>yes</td>\n",
       "    </tr>\n",
       "    <tr>\n",
       "      <th>3</th>\n",
       "      <td>Cat</td>\n",
       "      <td>Domestic Shorthair Mix</td>\n",
       "      <td>Blue Cream</td>\n",
       "      <td>Intact</td>\n",
       "      <td>Male</td>\n",
       "      <td>0.75</td>\n",
       "      <td>1.0</td>\n",
       "      <td>19</td>\n",
       "      <td>Friday</td>\n",
       "      <td>7</td>\n",
       "      <td>no</td>\n",
       "    </tr>\n",
       "    <tr>\n",
       "      <th>4</th>\n",
       "      <td>Dog</td>\n",
       "      <td>Lhasa Apso/Miniature Poodle</td>\n",
       "      <td>Tan</td>\n",
       "      <td>Neutered</td>\n",
       "      <td>Male</td>\n",
       "      <td>2.00</td>\n",
       "      <td>2.0</td>\n",
       "      <td>13</td>\n",
       "      <td>Friday</td>\n",
       "      <td>11</td>\n",
       "      <td>no</td>\n",
       "    </tr>\n",
       "  </tbody>\n",
       "</table>\n",
       "</div>"
      ],
      "text/plain": [
       "  AnimalType                        Breed        Color    Status  Gender  \\\n",
       "0        Dog        Shetland Sheepdog Mix  Brown/White  Neutered    Male   \n",
       "1        Cat       Domestic Shorthair Mix  Cream Tabby    Spayed  Female   \n",
       "2        Dog                 Pit Bull Mix   Blue/White  Neutered    Male   \n",
       "3        Cat       Domestic Shorthair Mix   Blue Cream    Intact    Male   \n",
       "4        Dog  Lhasa Apso/Miniature Poodle          Tan  Neutered    Male   \n",
       "\n",
       "   AgeInYears SringAge Time    WeekDay Month HasName  \n",
       "0        1.00      1.0   18  Wednesday     2     yes  \n",
       "1        1.00      1.0   13     Sunday    10     yes  \n",
       "2        2.00      2.0   12   Saturday     1     yes  \n",
       "3        0.75      1.0   19     Friday     7      no  \n",
       "4        2.00      2.0   13     Friday    11      no  "
      ]
     },
     "execution_count": 10,
     "metadata": {},
     "output_type": "execute_result"
    }
   ],
   "source": [
    "pfeatures.head()"
   ]
  },
  {
   "cell_type": "markdown",
   "metadata": {},
   "source": [
    "# Exploring the data"
   ]
  },
  {
   "cell_type": "code",
   "execution_count": 12,
   "metadata": {
    "collapsed": false
   },
   "outputs": [
    {
     "data": {
      "text/plain": [
       "<matplotlib.text.Text at 0x115ead1d0>"
      ]
     },
     "execution_count": 12,
     "metadata": {},
     "output_type": "execute_result"
    },
    {
     "name": "stderr",
     "output_type": "stream",
     "text": [
      "/Users/ahmadmohammad/anaconda/lib/python2.7/site-packages/matplotlib/figure.py:1744: UserWarning: This figure includes Axes that are not compatible with tight_layout, so its results might be incorrect.\n",
      "  warnings.warn(\"This figure includes Axes that are not \"\n"
     ]
    },
    {
     "data": {
      "image/png": "[encoded data removed]",
      "text/plain": [
       "<matplotlib.figure.Figure at 0x1162e9c90>"
      ]
     },
     "metadata": {},
     "output_type": "display_data"
    }
   ],
   "source": [
    "fig = plt.figure(figsize=(15,13), tight_layout=True)\n",
    "gs = gridspec.GridSpec(4, 2)\n",
    "\n",
    "ax1 = fig.add_subplot(gs[0,0])\n",
    "out_counts = pd.concat([pd.DataFrame(ptrain[pfeatures['AnimalType']=='Dog']['OutcomeType'].value_counts()).T,\n",
    "                    pd.DataFrame(ptrain[pfeatures['AnimalType']=='Cat']['OutcomeType'].value_counts()).T])\n",
    "out_counts.index = ['Dog','Cat']\n",
    "out_weights = out_counts.apply(lambda x: x/out_counts.sum(axis=1))\n",
    "out_weights.plot(kind=\"bar\",\n",
    "                 stacked=True,\n",
    "                 width=.4,\n",
    "                 rot=0,\n",
    "                ax=ax1)\n",
    "ax1.set_title('Outcome Type By Animal Type'); ax1.set_ylabel('weight')\n",
    "\n",
    "ax2 = fig.add_subplot(gs[0,1])\n",
    "weekday_counts = pd.concat([pd.DataFrame(ptrain[ptrain['WeekDay']=='Monday']['OutcomeType'].value_counts()).T,\n",
    "                            pd.DataFrame(ptrain[ptrain['WeekDay']=='Tuesday']['OutcomeType'].value_counts()).T,\n",
    "                            pd.DataFrame(ptrain[ptrain['WeekDay']=='Wednesday']['OutcomeType'].value_counts()).T,\n",
    "                            pd.DataFrame(ptrain[ptrain['WeekDay']=='Thursday']['OutcomeType'].value_counts()).T,\n",
    "                            pd.DataFrame(ptrain[ptrain['WeekDay']=='Friday']['OutcomeType'].value_counts()).T,\n",
    "                            pd.DataFrame(ptrain[ptrain['WeekDay']=='Saturday']['OutcomeType'].value_counts()).T,\n",
    "                            pd.DataFrame(ptrain[ptrain['WeekDay']=='Sunday']['OutcomeType'].value_counts()).T,])\n",
    "weekday_counts.index = ['Monday','Tuesday','Wednesday', 'Thursday','Friday','Saturday','Sunday']\n",
    "weekday_weights = weekday_counts.apply(lambda x: x/weekday_counts.sum(axis=1))\n",
    "weekday_weights.plot(kind=\"bar\", \n",
    "                     stacked=True,\n",
    "                     width=.9,\n",
    "                     rot=0,\n",
    "                    ax=ax2).legend(bbox_to_anchor=(1.325, 1))\n",
    "ax2.set_title('Outcome Type By Day of The Week'); ax2.set_ylabel('weight')\n",
    "\n",
    "\n",
    "ax3 = fig.add_subplot(gs[1,0])\n",
    "status_counts = pd.concat([pd.DataFrame(pfeatures[pfeatures['AnimalType']=='Dog']['Status'].value_counts()).T,\n",
    "                            pd.DataFrame(pfeatures[pfeatures['AnimalType']=='Cat']['Status'].value_counts()).T])\n",
    "status_counts.index = ['Dog','Cat']\n",
    "status_weights = status_counts.apply(lambda x: x/status_counts.sum(axis=1))\n",
    "status_weights.plot(kind=\"bar\", \n",
    "                    stacked=True,\n",
    "                    width=.4,\n",
    "                    rot=0,\n",
    "                   ax=ax3)\n",
    "ax3.set_title('Status by Animal Type'); ax3.set_ylabel('weight')\n",
    "\n",
    "\n",
    "ax4 = fig.add_subplot(gs[1,1])\n",
    "status2_counts = pd.concat([pd.DataFrame(ptrain[ptrain['Status']=='Neutered']['OutcomeType'].value_counts()).T,\n",
    "                            pd.DataFrame(ptrain[ptrain['Status']=='Spayed']['OutcomeType'].value_counts()).T,\n",
    "                            pd.DataFrame(ptrain[ptrain['Status']=='Intact']['OutcomeType'].value_counts()).T,\n",
    "                            pd.DataFrame(ptrain[ptrain['Status']=='Unknown']['OutcomeType'].value_counts()).T])\n",
    "status2_counts.index = list(ptrain['Status'].unique())\n",
    "status2_weights = status2_counts.apply(lambda x: x/status2_counts.sum(axis=1))\n",
    "status2_weights.plot(kind=\"bar\", \n",
    "                     stacked=True,\n",
    "                     width=.9,\n",
    "                     rot=0,\n",
    "                    ax=ax4).legend(bbox_to_anchor=(1.325, 1))\n",
    "ax4.set_title('Outcome Type By Status'); ax4.set_ylabel('weight')\n",
    "\n",
    "\n",
    "ax5 = fig.add_subplot(gs[2,0])\n",
    "pfeatures.hist(column=\"AgeInYears\",       \n",
    "               color=\"blue\",\n",
    "               bins=20,\n",
    "              ax=ax5) \n",
    "ax5.set_title('Age Frequency')\n",
    "\n",
    "\n",
    "ax6 = fig.add_subplot(gs[2,1])\n",
    "month_counts = pd.DataFrame(ptrain[ptrain['Month']=='1']['OutcomeType'].value_counts()).T\n",
    "for i in range(2,13):\n",
    "    month_counts = pd.concat([month_counts,\n",
    "                              pd.DataFrame(ptrain[ptrain['Month']==str(i)]['OutcomeType'].value_counts()).T])\n",
    "month_counts.index = ['Jan','Feb','Mar', 'Apr','May','Jun','Jul', 'Aug', 'Sep', 'Oct', 'Nov', 'Dec']\n",
    "month_weights = month_counts.apply(lambda x: x/month_counts.sum(axis=1))\n",
    "month_weights.plot(kind=\"bar\", \n",
    "                     stacked=True,\n",
    "                     width=.9,\n",
    "                     rot=0,\n",
    "                    ax=ax6).legend(bbox_to_anchor=(1.325, 1))\n",
    "ax6.set_title('Outcome Type By Month'); ax6.set_ylabel('weight')\n",
    "\n",
    "\n",
    "ax7 = fig.add_subplot(gs[3,0:])\n",
    "AgeInYears_counts = pd.DataFrame(ptrain[ptrain['AgeInYears']==1]['OutcomeType'].value_counts()).T\n",
    "for i in range(2,21):\n",
    "    AgeInYears_counts = pd.concat([AgeInYears_counts,\n",
    "                                   pd.DataFrame(ptrain[ptrain['AgeInYears']==i]['OutcomeType'].value_counts()).T])\n",
    "AgeInYears_counts.index = range(1,21)\n",
    "AgeInYears_weights = AgeInYears_counts.apply(lambda x: x/AgeInYears_counts.sum(axis=1))\n",
    "AgeInYears_weights.plot(kind=\"bar\", \n",
    "                     stacked=True,\n",
    "                     width=.9,\n",
    "                     rot=0,\n",
    "                    ax=ax7).legend(bbox_to_anchor=(1.155,1))\n",
    "ax7.set_title('Outcome Type By Age '); ax7.set_ylabel('Age')\n",
    "\n",
    "\n"
   ]
  },
  {
   "cell_type": "markdown",
   "metadata": {},
   "source": [
    "I'm going to let the charts speak for themselves. But for a quick highlights:\n",
    "- the majority of the adopted are either neutered or spayed.\n",
    "- Most of the adoption happens on the weekends.\n",
    "- Cats are more likely to be transferred than dogs (animal racism #PETA)\n",
    "- The majority of the animals are within the age of few months to one year. \n",
    "- Older animals are more likely to be returned to owner or get Youth In Asia and younger ones are more likely to be adopted. \n"
   ]
  },
  {
   "cell_type": "markdown",
   "metadata": {},
   "source": [
    "# Training the model\n",
    "\n",
    "All of the data are categorical except for the age (the time can be treated as numeric but i got a better score as categorical). So we'll binarize the categorical features to prepare them for training by pandas `get_dummies`."
   ]
  },
  {
   "cell_type": "code",
   "execution_count": 13,
   "metadata": {
    "collapsed": false
   },
   "outputs": [],
   "source": [
    "def preprocess_features(X):\n",
    "    outX = pd.DataFrame(index=X.index)  # output dataframe, initially empty\n",
    "\n",
    "    # Check each column\n",
    "    for col, col_data in X.iteritems():\n",
    "        # If data type is non-numeric, try to replace all yes/no values with 1/0            \n",
    "        if col_data.dtype == object:  # or col_data.dtype == 'category':\n",
    "            col_data = pd.get_dummies(col_data, prefix=col)  # e.g. 'school' => 'school_GP', 'school_MS'\n",
    "\n",
    "        outX = outX.join(col_data)  # collect column(s) in output dataframe\n",
    "\n",
    "    return outX"
   ]
  },
  {
   "cell_type": "code",
   "execution_count": 14,
   "metadata": {
    "collapsed": true
   },
   "outputs": [],
   "source": [
    "x_train = preprocess_features(pfeatures)"
   ]
  },
  {
   "cell_type": "markdown",
   "metadata": {},
   "source": [
    "### Logistic Regression"
   ]
  },
  {
   "cell_type": "code",
   "execution_count": 15,
   "metadata": {
    "collapsed": false
   },
   "outputs": [],
   "source": [
    "from sklearn.linear_model import LogisticRegressionCV\n",
    "log = LogisticRegressionCV()\n",
    "model_log = log.fit(x_train,target)"
   ]
  },
  {
   "cell_type": "markdown",
   "metadata": {},
   "source": [
    "### Random Forests"
   ]
  },
  {
   "cell_type": "code",
   "execution_count": 16,
   "metadata": {
    "collapsed": false
   },
   "outputs": [],
   "source": [
    "from sklearn.ensemble import RandomForestClassifier\n",
    "ran = RandomForestClassifier(5000)\n",
    "model_rf = ran.fit(x_train,target)"
   ]
  },
  {
   "cell_type": "markdown",
   "metadata": {},
   "source": [
    "### Neural Networks\n",
    "Since sklearn current version does not have the neural network model, we'll use google's tensor flow. Tensor flow does not accept pandas table so we'll convert them to numpy matrix and encode the target labels. "
   ]
  },
  {
   "cell_type": "code",
   "execution_count": null,
   "metadata": {
    "collapsed": false
   },
   "outputs": [],
   "source": [
    "from tensorflow.contrib import learn\n",
    "from sklearn import preprocessing\n",
    "\n",
    "#conver the data to numpy matrix and encoding the target labels\n",
    "columns = list(target.unique())\n",
    "columns.sort()\n",
    "le = preprocessing.LabelEncoder()\n",
    "le.fit(columns)\n",
    "target_enc = le.transform(target.values) \n",
    "x_train_np = x_train.as_matrix()\n",
    "\n",
    "\n",
    "model_nn = learn.TensorFlowDNNClassifier(hidden_units=[100], n_classes=5, steps=5000)\n",
    "model_nn.fit(x_train_np, target_enc)"
   ]
  },
  {
   "cell_type": "markdown",
   "metadata": {},
   "source": [
    "# Testing the model\n",
    "Before testing the model, let's quickly calculate the accuracy score on the train set for each model. "
   ]
  },
  {
   "cell_type": "code",
   "execution_count": 18,
   "metadata": {
    "collapsed": false
   },
   "outputs": [
    {
     "data": {
      "text/plain": [
       "0.68713264198270374"
      ]
     },
     "execution_count": 18,
     "metadata": {},
     "output_type": "execute_result"
    }
   ],
   "source": [
    "model_log.score(x_train, target)"
   ]
  },
  {
   "cell_type": "code",
   "execution_count": 19,
   "metadata": {
    "collapsed": false
   },
   "outputs": [
    {
     "data": {
      "text/plain": [
       "0.99816554977350158"
      ]
     },
     "execution_count": 19,
     "metadata": {},
     "output_type": "execute_result"
    }
   ],
   "source": [
    "model_rf.score(x_train, target)"
   ]
  },
  {
   "cell_type": "code",
   "execution_count": 20,
   "metadata": {
    "collapsed": false
   },
   "outputs": [
    {
     "data": {
      "text/plain": [
       "0.71127999700497924"
      ]
     },
     "execution_count": 20,
     "metadata": {},
     "output_type": "execute_result"
    }
   ],
   "source": [
    "model_nn.score(x_train_np, target_enc)"
   ]
  },
  {
   "cell_type": "markdown",
   "metadata": {},
   "source": [
    "And now we'll process the features of the test data."
   ]
  },
  {
   "cell_type": "code",
   "execution_count": 21,
   "metadata": {
    "collapsed": true
   },
   "outputs": [],
   "source": [
    "test = pd.read_csv('test.csv')"
   ]
  },
  {
   "cell_type": "code",
   "execution_count": 22,
   "metadata": {
    "collapsed": false
   },
   "outputs": [
    {
     "data": {
      "text/html": [
       "<div>\n",
       "<table border=\"1\" class=\"dataframe\">\n",
       "  <thead>\n",
       "    <tr style=\"text-align: right;\">\n",
       "      <th></th>\n",
       "      <th>ID</th>\n",
       "      <th>Name</th>\n",
       "      <th>DateTime</th>\n",
       "      <th>AnimalType</th>\n",
       "      <th>SexuponOutcome</th>\n",
       "      <th>AgeuponOutcome</th>\n",
       "      <th>Breed</th>\n",
       "      <th>Color</th>\n",
       "    </tr>\n",
       "  </thead>\n",
       "  <tbody>\n",
       "    <tr>\n",
       "      <th>0</th>\n",
       "      <td>1</td>\n",
       "      <td>Summer</td>\n",
       "      <td>2015-10-12 12:15:00</td>\n",
       "      <td>Dog</td>\n",
       "      <td>Intact Female</td>\n",
       "      <td>10 months</td>\n",
       "      <td>Labrador Retriever Mix</td>\n",
       "      <td>Red/White</td>\n",
       "    </tr>\n",
       "    <tr>\n",
       "      <th>1</th>\n",
       "      <td>2</td>\n",
       "      <td>Cheyenne</td>\n",
       "      <td>2014-07-26 17:59:00</td>\n",
       "      <td>Dog</td>\n",
       "      <td>Spayed Female</td>\n",
       "      <td>2 years</td>\n",
       "      <td>German Shepherd/Siberian Husky</td>\n",
       "      <td>Black/Tan</td>\n",
       "    </tr>\n",
       "    <tr>\n",
       "      <th>2</th>\n",
       "      <td>3</td>\n",
       "      <td>Gus</td>\n",
       "      <td>2016-01-13 12:20:00</td>\n",
       "      <td>Cat</td>\n",
       "      <td>Neutered Male</td>\n",
       "      <td>1 year</td>\n",
       "      <td>Domestic Shorthair Mix</td>\n",
       "      <td>Brown Tabby</td>\n",
       "    </tr>\n",
       "    <tr>\n",
       "      <th>3</th>\n",
       "      <td>4</td>\n",
       "      <td>Pongo</td>\n",
       "      <td>2013-12-28 18:12:00</td>\n",
       "      <td>Dog</td>\n",
       "      <td>Intact Male</td>\n",
       "      <td>4 months</td>\n",
       "      <td>Collie Smooth Mix</td>\n",
       "      <td>Tricolor</td>\n",
       "    </tr>\n",
       "    <tr>\n",
       "      <th>4</th>\n",
       "      <td>5</td>\n",
       "      <td>Skooter</td>\n",
       "      <td>2015-09-24 17:59:00</td>\n",
       "      <td>Dog</td>\n",
       "      <td>Neutered Male</td>\n",
       "      <td>2 years</td>\n",
       "      <td>Miniature Poodle Mix</td>\n",
       "      <td>White</td>\n",
       "    </tr>\n",
       "  </tbody>\n",
       "</table>\n",
       "</div>"
      ],
      "text/plain": [
       "   ID      Name             DateTime AnimalType SexuponOutcome AgeuponOutcome  \\\n",
       "0   1    Summer  2015-10-12 12:15:00        Dog  Intact Female      10 months   \n",
       "1   2  Cheyenne  2014-07-26 17:59:00        Dog  Spayed Female        2 years   \n",
       "2   3       Gus  2016-01-13 12:20:00        Cat  Neutered Male         1 year   \n",
       "3   4     Pongo  2013-12-28 18:12:00        Dog    Intact Male       4 months   \n",
       "4   5   Skooter  2015-09-24 17:59:00        Dog  Neutered Male        2 years   \n",
       "\n",
       "                            Breed        Color  \n",
       "0          Labrador Retriever Mix    Red/White  \n",
       "1  German Shepherd/Siberian Husky    Black/Tan  \n",
       "2          Domestic Shorthair Mix  Brown Tabby  \n",
       "3               Collie Smooth Mix     Tricolor  \n",
       "4            Miniature Poodle Mix        White  "
      ]
     },
     "execution_count": 22,
     "metadata": {},
     "output_type": "execute_result"
    }
   ],
   "source": [
    "test.head()"
   ]
  },
  {
   "cell_type": "code",
   "execution_count": 23,
   "metadata": {
    "collapsed": false
   },
   "outputs": [],
   "source": [
    "def process_t(features):\n",
    "    #split SexuponOutcome columns and add it to features\n",
    "    splited_SexuponOutcome = features['SexuponOutcome'].apply(lambda x: pd.Series(x.split(' ')))\n",
    "    splited_SexuponOutcome.columns = ['Status', 'Gender']\n",
    "    #splited_SexuponOutcome = splited_SexuponOutcome.fillna('Unknown')\n",
    "    features = pd.concat([features,splited_SexuponOutcome], axis=1)\n",
    "    #convert the age to years of type float    \n",
    "    features['AgeuponOutcome'] = features['AgeuponOutcome'].fillna('2.2 years')\n",
    "    splited_AgeuponOutcome = features['AgeuponOutcome'].apply(lambda x: pd.Series(x.split(' ')))\n",
    "    splited_AgeuponOutcome[0] = splited_AgeuponOutcome[0].map(lambda x: float(x)) #if x != \"Unknown\" else None)\n",
    "    for i in range(len(splited_AgeuponOutcome)):\n",
    "        if splited_AgeuponOutcome.iloc[i,1]=='weeks' or splited_AgeuponOutcome.iloc[i,1]=='week':\n",
    "            splited_AgeuponOutcome.iloc[i,0] = splited_AgeuponOutcome.iloc[i,0]/4\n",
    "        elif splited_AgeuponOutcome.iloc[i,1]=='month' or splited_AgeuponOutcome.iloc[i,1]=='months':\n",
    "            splited_AgeuponOutcome.iloc[i,0] = splited_AgeuponOutcome.iloc[i,0]/12\n",
    "        elif splited_AgeuponOutcome.iloc[i,1]=='day' or splited_AgeuponOutcome.iloc[i,1]=='days':\n",
    "            splited_AgeuponOutcome.iloc[i,0] = splited_AgeuponOutcome.iloc[i,0]/365\n",
    "        else:\n",
    "            pass\n",
    "    features['AgeInYears'] = splited_AgeuponOutcome[0]\n",
    "    features['SringAge'] = features['AgeInYears'].map(lambda x: str(round(x)))\n",
    "    features['DateTime'] = features['DateTime'].map(lambda x: datetime.datetime.strptime(x, '%Y-%m-%d %X'))\n",
    "    features['Time'] = features['DateTime'].map(lambda x: x.hour if x.minute <= 30 else x.hour+1)\n",
    "    features['Time'] = features['Time'].map(lambda x: str(x))\n",
    "    features['WeekDay'] = features['DateTime'].map(lambda x: calendar.day_name[x.weekday()])\n",
    "    features['Month'] = features['DateTime'].map(lambda x: str(x.month))\n",
    "    features['HasName'] = pd.isnull(features['Name']).map(lambda x: 'yes' if not x else 'no')\n",
    "    features = features.drop(['ID', 'Name','SexuponOutcome', 'AgeuponOutcome', 'DateTime'],  axis=1)\n",
    "    return features"
   ]
  },
  {
   "cell_type": "code",
   "execution_count": 24,
   "metadata": {
    "collapsed": true
   },
   "outputs": [],
   "source": [
    "ptest = process_t(test)"
   ]
  },
  {
   "cell_type": "code",
   "execution_count": 25,
   "metadata": {
    "collapsed": false
   },
   "outputs": [],
   "source": [
    "x_test = preprocess_features(ptest)"
   ]
  },
  {
   "cell_type": "markdown",
   "metadata": {},
   "source": [
    "Because there are some subfeeatures in the train data that are not in the test data and vise verca, the two will have different columns. Thanks to [this](http://stackoverflow.com/questions/34170413/possible-ways-to-do-one-hot-encoding-in-scikit-learn) answer on stackoverflow, the problem is resolved by the code below:"
   ]
  },
  {
   "cell_type": "code",
   "execution_count": 26,
   "metadata": {
    "collapsed": false
   },
   "outputs": [],
   "source": [
    "col_to_add = np.setdiff1d(x_train.columns, x_test.columns)\n",
    "for c in col_to_add:\n",
    "    x_test[c] = 0\n",
    "x_test = x_test[x_train.columns]"
   ]
  },
  {
   "cell_type": "code",
   "execution_count": 27,
   "metadata": {
    "collapsed": true
   },
   "outputs": [],
   "source": [
    "# converting to numpy for the nueral networks model\n",
    "x_test_np = x_test.as_matrix()"
   ]
  },
  {
   "cell_type": "code",
   "execution_count": 28,
   "metadata": {
    "collapsed": true
   },
   "outputs": [],
   "source": [
    "def submit(test_data, model, name):\n",
    "    df = pd.DataFrame(data=model.predict_proba(test_data), columns=columns)\n",
    "    submission = pd.DataFrame({'ID':test['ID'].values})\n",
    "    final = pd.concat([submission, df], axis=1)\n",
    "    final.to_csv(''.join([name,'.csv']), index=False)"
   ]
  },
  {
   "cell_type": "code",
   "execution_count": 29,
   "metadata": {
    "collapsed": true
   },
   "outputs": [],
   "source": [
    "submit(x_test, model_log, 'logistic_regression')"
   ]
  },
  {
   "cell_type": "code",
   "execution_count": 30,
   "metadata": {
    "collapsed": true
   },
   "outputs": [],
   "source": [
    "submit(x_test, model_rf, 'random_forests')"
   ]
  },
  {
   "cell_type": "code",
   "execution_count": 31,
   "metadata": {
    "collapsed": false
   },
   "outputs": [],
   "source": [
    "submit(x_test_np, model_nn,'neural_networks')"
   ]
  },
  {
   "cell_type": "markdown",
   "metadata": {},
   "source": [
    "# Results and Conclusion\n",
    "| Model               | Test Score on Kaggle (lower is better) |\n",
    "|---------------------|------------|\n",
    "| Logistic Regression | 0.85446    |\n",
    "| Random Forests      | 0.79586    |\n",
    "| Neural Networks     | 0.77518    |\n",
    "\n",
    "Note that for random forests and neural networks I tried a bunch of parameters on the test (number of trees for random forests and hidden units, layers, regularization penalty and steps for neural networks) set to get the best results  . However, this is not the correct way in the real world. The parameters should be tuned based on cross validation on the training set. Sklearm's `LogisticRegressionCV` already does the fine-tuning so didn't need to play with the parameters for the logistic regression model. "
   ]
  }
 ],
 "metadata": {
  "kernelspec": {
   "display_name": "Python 2",
   "language": "python",
   "name": "python2"
  },
  "language_info": {
   "codemirror_mode": {
    "name": "ipython",
    "version": 2
   },
   "file_extension": ".py",
   "mimetype": "text/x-python",
   "name": "python",
   "nbconvert_exporter": "python",
   "pygments_lexer": "ipython2",
   "version": "2.7.11"
  }
 },
 "nbformat": 4,
 "nbformat_minor": 0
}
